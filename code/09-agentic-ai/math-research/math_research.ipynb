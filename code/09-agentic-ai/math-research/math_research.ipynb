{
 "cells": [
  {
   "cell_type": "markdown",
   "id": "a7f21c6dae76f057",
   "metadata": {},
   "source": [
    "# Organizing Code\n",
    "\n",
    "The idea of this notebook is to leverage the complex but not exactly relevant code found in `mathf`, our math utility library."
   ]
  },
  {
   "cell_type": "code",
   "execution_count": 4,
   "id": "6040bded7e982e0c",
   "metadata": {
    "ExecuteTime": {
     "end_time": "2025-07-26T17:50:06.856743Z",
     "start_time": "2025-07-26T17:50:06.852198Z"
    },
    "jupyter": {
     "source_hidden": true
    }
   },
   "outputs": [],
   "source": [
    "# Import our math functions.\n",
    "import mathf"
   ]
  },
  {
   "cell_type": "raw",
   "metadata": {
    "vscode": {
     "languageId": "raw"
    }
   },
   "source": [
    "## Understanding the Mathematical Problem\n",
    "\n",
    "### Fibonacci Numbers\n",
    "The Fibonacci sequence is one of the most famous sequences in mathematics, where each number is the sum of the two preceding ones:\n",
    "**1, 1, 2, 3, 5, 8, 13, 21, 34, 55, 89, 144, ...**\n",
    "\n",
    "### The Research Question\n",
    "We're investigating an interesting mathematical relationship: **Which Fibonacci numbers are multiples of prime numbers?**\n",
    "\n",
    "Specifically, we want to explore:\n",
    "- Given a prime number (like 17), which Fibonacci numbers are divisible by it?\n",
    "- How large do these numbers get?\n",
    "- Is there a pattern in their occurrence?\n",
    "\n",
    "### Why This Matters\n",
    "This type of research helps us understand:\n",
    "- **Number theory patterns**: How different mathematical sequences interact\n",
    "- **Divisibility properties**: When and why certain relationships occur\n",
    "- **Computational mathematics**: How to efficiently find these relationships\n",
    "\n",
    "### What We'll Discover\n",
    "In the analysis below, we'll find the first 10 Fibonacci numbers that are multiples of 17, revealing how quickly these numbers grow and providing insight into the fascinating intersection of prime numbers and the Fibonacci sequence.\n"
   ]
  },
  {
   "cell_type": "markdown",
   "id": "9209940ceb5e46c0",
   "metadata": {},
   "source": [
    "## Primes and Fibonacci?\n",
    "\n",
    "Let's see if there is a relationship between primes and fibonacci numbers."
   ]
  },
  {
   "cell_type": "code",
   "execution_count": null,
   "id": "c8beeefbe98fd1b8",
   "metadata": {
    "ExecuteTime": {
     "end_time": "2025-07-26T17:50:08.846973Z",
     "start_time": "2025-07-26T17:50:08.843648Z"
    }
   },
   "outputs": [],
   "source": [
    "from itertools import islice\n",
    "\n",
    "prime = 17\n",
    "all_fibs = mathf.fibonacci()\n",
    "fib_multiples_of_prime = mathf.multiples_of(all_fibs, prime)\n",
    "\n",
    "first_10 = list(islice(fib_multiples_of_prime, 10))"
   ]
  },
  {
   "cell_type": "markdown",
   "id": "ca9ad6fe20a217d7",
   "metadata": {},
   "source": [
    "What are the first 10 which are multiples of 17?"
   ]
  },
  {
   "cell_type": "code",
   "execution_count": 8,
   "id": "980daf7b8a4f2a61",
   "metadata": {
    "ExecuteTime": {
     "end_time": "2025-07-26T17:52:08.542715Z",
     "start_time": "2025-07-26T17:52:08.540403Z"
    },
    "jupyter": {
     "source_hidden": true
    }
   },
   "outputs": [
    {
     "name": "stdout",
     "output_type": "stream",
     "text": [
      "34\n",
      "2,584\n",
      "196,418\n",
      "14,930,352\n",
      "1,134,903,170\n",
      "86,267,571,272\n",
      "6,557,470,319,842\n",
      "498,454,011,879,264\n",
      "37,889,062,373,143,906\n",
      "2,880,067,194,370,816,120\n",
      "218,922,995,834,555,169,026\n",
      "16,641,027,750,620,563,662,096\n",
      "1,264,937,032,042,997,393,488,322\n",
      "96,151,855,463,018,422,468,774,568\n",
      "7,308,805,952,221,443,105,020,355,490\n",
      "555,565,404,224,292,694,404,015,791,808\n",
      "42,230,279,526,998,466,217,810,220,532,898\n"
     ]
    }
   ],
   "source": [
    "numbers_text = [f'{tn:,}' for tn in first_10]\n",
    "for n in numbers_text:\n",
    "    print(n)"
   ]
  },
  {
   "cell_type": "code",
   "execution_count": null,
   "id": "b2c870122e665de2",
   "metadata": {},
   "outputs": [],
   "source": []
  }
 ],
 "metadata": {
  "kernelspec": {
   "display_name": "venv",
   "language": "python",
   "name": "python3"
  },
  "language_info": {
   "codemirror_mode": {
    "name": "ipython",
    "version": 3
   },
   "file_extension": ".py",
   "mimetype": "text/x-python",
   "name": "python",
   "nbconvert_exporter": "python",
   "pygments_lexer": "ipython3",
   "version": "3.13.5"
  }
 },
 "nbformat": 4,
 "nbformat_minor": 5
}
