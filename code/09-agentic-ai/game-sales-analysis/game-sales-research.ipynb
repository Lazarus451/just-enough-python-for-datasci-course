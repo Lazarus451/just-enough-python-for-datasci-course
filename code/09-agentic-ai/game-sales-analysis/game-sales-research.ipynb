{
 "cells": [
  {
   "cell_type": "markdown",
   "metadata": {
    "vscode": {
     "languageId": "raw"
    }
   },
   "source": [
    "# Video Game Sales Research\n",
    "\n",
    "## Dataset Overview\n",
    "\n",
    "This notebook analyzes a comprehensive video game sales dataset containing **16,600 entries** ranked by global sales performance, covering games from **1984 to 2016**.\n",
    "\n",
    "### Key Highlights\n",
    "\n",
    "- **Top Game**: Wii Sports with 82.74 million global sales\n",
    "- **Market Leaders**: Nintendo dominates top rankings with iconic franchises\n",
    "- **Sales Range**: From 82.74M (top) down to 0.01M (bottom tier)\n",
    "- **Regional Coverage**: NA, EU, JP, and other markets\n",
    "- **Platform Diversity**: 30+ years of gaming platforms from NES to PS4\n",
    "- **Genre Variety**: Sports, Platform, Racing, Action, RPG, Shooter, and more\n",
    "\n",
    "### Research Questions\n",
    "\n",
    "This analysis will explore:\n",
    "- Genre popularity trends over time\n",
    "- Platform lifecycle and market share evolution\n",
    "- Regional market preferences and differences\n",
    "- Publisher market dominance and competition\n",
    "- Franchise performance patterns\n",
    "\n",
    "### Notebook Structure\n",
    "\n",
    "1. **Setup & Data Loading**: Import libraries and load dataset\n",
    "2. **Data Quality Assessment**: Check for missing values and data integrity\n",
    "3. **Helper Functions**: Reusable analysis functions\n",
    "4. **Exploratory Data Analysis**: Initial data exploration\n",
    "5. **Market Analysis**: Platform, genre, and publisher insights\n",
    "6. **Regional Analysis**: Geographic market differences\n",
    "7. **Conclusions**: Key findings and next steps\n"
   ]
  },
  {
   "cell_type": "markdown",
   "metadata": {
    "vscode": {
     "languageId": "raw"
    }
   },
   "source": [
    "## Setup and Data Loading\n"
   ]
  },
  {
   "cell_type": "code",
   "execution_count": 1,
   "metadata": {
    "jupyter": {
     "source_hidden": true
    }
   },
   "outputs": [
    {
     "name": "stdout",
     "output_type": "stream",
     "text": [
      "Libraries and custom modules imported successfully!\n"
     ]
    }
   ],
   "source": [
    "# Import required libraries\n",
    "import pandas as pd\n",
    "import numpy as np\n",
    "import matplotlib.pyplot as plt\n",
    "import seaborn as sns\n",
    "from pathlib import Path\n",
    "\n",
    "# Import custom analysis modules\n",
    "from data_loader import setup_display_options, load_game_sales_data\n",
    "from data_analysis import (\n",
    "    analyze_missing_data, get_top_performers, analyze_distribution,\n",
    "    calculate_regional_breakdown, analyze_publishers, analyze_year_trends,\n",
    "    get_regional_market_share, generate_summary_statistics\n",
    ")\n",
    "from utils import suggest_next_analysis_steps, print_analysis_complete_message\n",
    "\n",
    "print(\"Libraries and custom modules imported successfully!\")\n"
   ]
  },
  {
   "cell_type": "code",
   "execution_count": 2,
   "metadata": {
    "jupyter": {
     "source_hidden": true
    }
   },
   "outputs": [
    {
     "name": "stdout",
     "output_type": "stream",
     "text": [
      "Display configuration applied successfully!\n"
     ]
    }
   ],
   "source": [
    "# Apply display configuration\n",
    "setup_display_options()\n",
    "print(\"Display configuration applied successfully!\")\n"
   ]
  },
  {
   "cell_type": "code",
   "execution_count": 17,
   "metadata": {},
   "outputs": [
    {
     "name": "stdout",
     "output_type": "stream",
     "text": [
      "✅ Dataset loaded successfully from vgsales.csv\n",
      "📊 Shape: (16598, 11)\n",
      "📋 Columns: ['Rank', 'Name', 'Platform', 'Year', 'Genre', 'Publisher', 'NA_Sales', 'EU_Sales', 'JP_Sales', 'Other_Sales', 'Global_Sales']\n"
     ]
    }
   ],
   "source": [
    "# Load the dataset using our custom function\n",
    "df = load_game_sales_data()"
   ]
  },
  {
   "cell_type": "code",
   "execution_count": 4,
   "metadata": {
    "jupyter": {
     "source_hidden": true
    }
   },
   "outputs": [
    {
     "name": "stdout",
     "output_type": "stream",
     "text": [
      "=== First 5 rows of the dataset ===\n"
     ]
    },
    {
     "data": {
      "text/html": [
       "<div>\n",
       "<style scoped>\n",
       "    .dataframe tbody tr th:only-of-type {\n",
       "        vertical-align: middle;\n",
       "    }\n",
       "\n",
       "    .dataframe tbody tr th {\n",
       "        vertical-align: top;\n",
       "    }\n",
       "\n",
       "    .dataframe thead th {\n",
       "        text-align: right;\n",
       "    }\n",
       "</style>\n",
       "<table border=\"1\" class=\"dataframe\">\n",
       "  <thead>\n",
       "    <tr style=\"text-align: right;\">\n",
       "      <th></th>\n",
       "      <th>Rank</th>\n",
       "      <th>Name</th>\n",
       "      <th>Platform</th>\n",
       "      <th>Year</th>\n",
       "      <th>Genre</th>\n",
       "      <th>Publisher</th>\n",
       "      <th>NA_Sales</th>\n",
       "      <th>EU_Sales</th>\n",
       "      <th>JP_Sales</th>\n",
       "      <th>Other_Sales</th>\n",
       "      <th>Global_Sales</th>\n",
       "    </tr>\n",
       "  </thead>\n",
       "  <tbody>\n",
       "    <tr>\n",
       "      <th>0</th>\n",
       "      <td>1</td>\n",
       "      <td>Wii Sports</td>\n",
       "      <td>Wii</td>\n",
       "      <td>2006.00</td>\n",
       "      <td>Sports</td>\n",
       "      <td>Nintendo</td>\n",
       "      <td>41.49</td>\n",
       "      <td>29.02</td>\n",
       "      <td>3.77</td>\n",
       "      <td>8.46</td>\n",
       "      <td>82.74</td>\n",
       "    </tr>\n",
       "    <tr>\n",
       "      <th>1</th>\n",
       "      <td>2</td>\n",
       "      <td>Super Mario Bros.</td>\n",
       "      <td>NES</td>\n",
       "      <td>1985.00</td>\n",
       "      <td>Platform</td>\n",
       "      <td>Nintendo</td>\n",
       "      <td>29.08</td>\n",
       "      <td>3.58</td>\n",
       "      <td>6.81</td>\n",
       "      <td>0.77</td>\n",
       "      <td>40.24</td>\n",
       "    </tr>\n",
       "    <tr>\n",
       "      <th>2</th>\n",
       "      <td>3</td>\n",
       "      <td>Mario Kart Wii</td>\n",
       "      <td>Wii</td>\n",
       "      <td>2008.00</td>\n",
       "      <td>Racing</td>\n",
       "      <td>Nintendo</td>\n",
       "      <td>15.85</td>\n",
       "      <td>12.88</td>\n",
       "      <td>3.79</td>\n",
       "      <td>3.31</td>\n",
       "      <td>35.82</td>\n",
       "    </tr>\n",
       "    <tr>\n",
       "      <th>3</th>\n",
       "      <td>4</td>\n",
       "      <td>Wii Sports Resort</td>\n",
       "      <td>Wii</td>\n",
       "      <td>2009.00</td>\n",
       "      <td>Sports</td>\n",
       "      <td>Nintendo</td>\n",
       "      <td>15.75</td>\n",
       "      <td>11.01</td>\n",
       "      <td>3.28</td>\n",
       "      <td>2.96</td>\n",
       "      <td>33.00</td>\n",
       "    </tr>\n",
       "    <tr>\n",
       "      <th>4</th>\n",
       "      <td>5</td>\n",
       "      <td>Pokemon Red/Pokemon Blue</td>\n",
       "      <td>GB</td>\n",
       "      <td>1996.00</td>\n",
       "      <td>Role-Playing</td>\n",
       "      <td>Nintendo</td>\n",
       "      <td>11.27</td>\n",
       "      <td>8.89</td>\n",
       "      <td>10.22</td>\n",
       "      <td>1.00</td>\n",
       "      <td>31.37</td>\n",
       "    </tr>\n",
       "  </tbody>\n",
       "</table>\n",
       "</div>"
      ],
      "text/plain": [
       "   Rank                      Name Platform    Year         Genre Publisher  \\\n",
       "0     1                Wii Sports      Wii 2006.00        Sports  Nintendo   \n",
       "1     2         Super Mario Bros.      NES 1985.00      Platform  Nintendo   \n",
       "2     3            Mario Kart Wii      Wii 2008.00        Racing  Nintendo   \n",
       "3     4         Wii Sports Resort      Wii 2009.00        Sports  Nintendo   \n",
       "4     5  Pokemon Red/Pokemon Blue       GB 1996.00  Role-Playing  Nintendo   \n",
       "\n",
       "   NA_Sales  EU_Sales  JP_Sales  Other_Sales  Global_Sales  \n",
       "0     41.49     29.02      3.77         8.46         82.74  \n",
       "1     29.08      3.58      6.81         0.77         40.24  \n",
       "2     15.85     12.88      3.79         3.31         35.82  \n",
       "3     15.75     11.01      3.28         2.96         33.00  \n",
       "4     11.27      8.89     10.22         1.00         31.37  "
      ]
     },
     "execution_count": 4,
     "metadata": {},
     "output_type": "execute_result"
    }
   ],
   "source": [
    "# Display sample of the data\n",
    "print(\"=== First 5 rows of the dataset ===\")\n",
    "df.head()\n"
   ]
  },
  {
   "cell_type": "markdown",
   "metadata": {
    "vscode": {
     "languageId": "raw"
    }
   },
   "source": [
    "## Data Quality Assessment\n",
    "\n",
    "Analyze the dataset for missing values and basic statistics.\n"
   ]
  },
  {
   "cell_type": "code",
   "execution_count": 5,
   "metadata": {
    "jupyter": {
     "source_hidden": true
    }
   },
   "outputs": [
    {
     "name": "stdout",
     "output_type": "stream",
     "text": [
      "✅ Analysis functions loaded from modules!\n"
     ]
    }
   ],
   "source": [
    "# Analysis functions are now imported from separate modules\n",
    "# See: data_analysis.py, data_loader.py, and utils.py for function definitions\n",
    "print(\"✅ Analysis functions loaded from modules!\")\n"
   ]
  },
  {
   "cell_type": "markdown",
   "metadata": {
    "vscode": {
     "languageId": "raw"
    }
   },
   "source": [
    "### Missing Data Analysis\n"
   ]
  },
  {
   "cell_type": "code",
   "execution_count": 6,
   "metadata": {},
   "outputs": [
    {
     "name": "stdout",
     "output_type": "stream",
     "text": [
      "=== Missing Values Analysis ===\n",
      "📊 Year: 271 missing values (1.63%)\n",
      "📊 Publisher: 58 missing values (0.35%)\n"
     ]
    }
   ],
   "source": [
    "# Analyze data quality using helper function\n",
    "missing_data_info = analyze_missing_data(df)\n"
   ]
  },
  {
   "cell_type": "code",
   "execution_count": 7,
   "metadata": {},
   "outputs": [
    {
     "name": "stdout",
     "output_type": "stream",
     "text": [
      "=== Dataset Statistics ===\n"
     ]
    },
    {
     "data": {
      "text/html": [
       "<div>\n",
       "<style scoped>\n",
       "    .dataframe tbody tr th:only-of-type {\n",
       "        vertical-align: middle;\n",
       "    }\n",
       "\n",
       "    .dataframe tbody tr th {\n",
       "        vertical-align: top;\n",
       "    }\n",
       "\n",
       "    .dataframe thead th {\n",
       "        text-align: right;\n",
       "    }\n",
       "</style>\n",
       "<table border=\"1\" class=\"dataframe\">\n",
       "  <thead>\n",
       "    <tr style=\"text-align: right;\">\n",
       "      <th></th>\n",
       "      <th>Rank</th>\n",
       "      <th>Year</th>\n",
       "      <th>NA_Sales</th>\n",
       "      <th>EU_Sales</th>\n",
       "      <th>JP_Sales</th>\n",
       "      <th>Other_Sales</th>\n",
       "      <th>Global_Sales</th>\n",
       "    </tr>\n",
       "  </thead>\n",
       "  <tbody>\n",
       "    <tr>\n",
       "      <th>count</th>\n",
       "      <td>16598.00</td>\n",
       "      <td>16327.00</td>\n",
       "      <td>16598.00</td>\n",
       "      <td>16598.00</td>\n",
       "      <td>16598.00</td>\n",
       "      <td>16598.00</td>\n",
       "      <td>16598.00</td>\n",
       "    </tr>\n",
       "    <tr>\n",
       "      <th>mean</th>\n",
       "      <td>8300.61</td>\n",
       "      <td>2006.41</td>\n",
       "      <td>0.26</td>\n",
       "      <td>0.15</td>\n",
       "      <td>0.08</td>\n",
       "      <td>0.05</td>\n",
       "      <td>0.54</td>\n",
       "    </tr>\n",
       "    <tr>\n",
       "      <th>std</th>\n",
       "      <td>4791.85</td>\n",
       "      <td>5.83</td>\n",
       "      <td>0.82</td>\n",
       "      <td>0.51</td>\n",
       "      <td>0.31</td>\n",
       "      <td>0.19</td>\n",
       "      <td>1.56</td>\n",
       "    </tr>\n",
       "    <tr>\n",
       "      <th>min</th>\n",
       "      <td>1.00</td>\n",
       "      <td>1980.00</td>\n",
       "      <td>0.00</td>\n",
       "      <td>0.00</td>\n",
       "      <td>0.00</td>\n",
       "      <td>0.00</td>\n",
       "      <td>0.01</td>\n",
       "    </tr>\n",
       "    <tr>\n",
       "      <th>25%</th>\n",
       "      <td>4151.25</td>\n",
       "      <td>2003.00</td>\n",
       "      <td>0.00</td>\n",
       "      <td>0.00</td>\n",
       "      <td>0.00</td>\n",
       "      <td>0.00</td>\n",
       "      <td>0.06</td>\n",
       "    </tr>\n",
       "    <tr>\n",
       "      <th>50%</th>\n",
       "      <td>8300.50</td>\n",
       "      <td>2007.00</td>\n",
       "      <td>0.08</td>\n",
       "      <td>0.02</td>\n",
       "      <td>0.00</td>\n",
       "      <td>0.01</td>\n",
       "      <td>0.17</td>\n",
       "    </tr>\n",
       "    <tr>\n",
       "      <th>75%</th>\n",
       "      <td>12449.75</td>\n",
       "      <td>2010.00</td>\n",
       "      <td>0.24</td>\n",
       "      <td>0.11</td>\n",
       "      <td>0.04</td>\n",
       "      <td>0.04</td>\n",
       "      <td>0.47</td>\n",
       "    </tr>\n",
       "    <tr>\n",
       "      <th>max</th>\n",
       "      <td>16600.00</td>\n",
       "      <td>2020.00</td>\n",
       "      <td>41.49</td>\n",
       "      <td>29.02</td>\n",
       "      <td>10.22</td>\n",
       "      <td>10.57</td>\n",
       "      <td>82.74</td>\n",
       "    </tr>\n",
       "  </tbody>\n",
       "</table>\n",
       "</div>"
      ],
      "text/plain": [
       "          Rank     Year  NA_Sales  EU_Sales  JP_Sales  Other_Sales  \\\n",
       "count 16598.00 16327.00  16598.00  16598.00  16598.00     16598.00   \n",
       "mean   8300.61  2006.41      0.26      0.15      0.08         0.05   \n",
       "std    4791.85     5.83      0.82      0.51      0.31         0.19   \n",
       "min       1.00  1980.00      0.00      0.00      0.00         0.00   \n",
       "25%    4151.25  2003.00      0.00      0.00      0.00         0.00   \n",
       "50%    8300.50  2007.00      0.08      0.02      0.00         0.01   \n",
       "75%   12449.75  2010.00      0.24      0.11      0.04         0.04   \n",
       "max   16600.00  2020.00     41.49     29.02     10.22        10.57   \n",
       "\n",
       "       Global_Sales  \n",
       "count      16598.00  \n",
       "mean           0.54  \n",
       "std            1.56  \n",
       "min            0.01  \n",
       "25%            0.06  \n",
       "50%            0.17  \n",
       "75%            0.47  \n",
       "max           82.74  "
      ]
     },
     "execution_count": 7,
     "metadata": {},
     "output_type": "execute_result"
    }
   ],
   "source": [
    "# Display basic statistics\n",
    "print(\"=== Dataset Statistics ===\")\n",
    "df.describe()\n"
   ]
  },
  {
   "cell_type": "markdown",
   "metadata": {
    "vscode": {
     "languageId": "raw"
    }
   },
   "source": [
    "## Top Performers Analysis\n"
   ]
  },
  {
   "cell_type": "code",
   "execution_count": 8,
   "metadata": {},
   "outputs": [
    {
     "name": "stdout",
     "output_type": "stream",
     "text": [
      "=== Top 10 Best-Selling Games ===\n"
     ]
    },
    {
     "data": {
      "text/html": [
       "<div>\n",
       "<style scoped>\n",
       "    .dataframe tbody tr th:only-of-type {\n",
       "        vertical-align: middle;\n",
       "    }\n",
       "\n",
       "    .dataframe tbody tr th {\n",
       "        vertical-align: top;\n",
       "    }\n",
       "\n",
       "    .dataframe thead th {\n",
       "        text-align: right;\n",
       "    }\n",
       "</style>\n",
       "<table border=\"1\" class=\"dataframe\">\n",
       "  <thead>\n",
       "    <tr style=\"text-align: right;\">\n",
       "      <th></th>\n",
       "      <th>Rank</th>\n",
       "      <th>Name</th>\n",
       "      <th>Platform</th>\n",
       "      <th>Year</th>\n",
       "      <th>Genre</th>\n",
       "      <th>Publisher</th>\n",
       "      <th>Global_Sales</th>\n",
       "    </tr>\n",
       "  </thead>\n",
       "  <tbody>\n",
       "    <tr>\n",
       "      <th>0</th>\n",
       "      <td>1</td>\n",
       "      <td>Wii Sports</td>\n",
       "      <td>Wii</td>\n",
       "      <td>2006.00</td>\n",
       "      <td>Sports</td>\n",
       "      <td>Nintendo</td>\n",
       "      <td>82.74</td>\n",
       "    </tr>\n",
       "    <tr>\n",
       "      <th>1</th>\n",
       "      <td>2</td>\n",
       "      <td>Super Mario Bros.</td>\n",
       "      <td>NES</td>\n",
       "      <td>1985.00</td>\n",
       "      <td>Platform</td>\n",
       "      <td>Nintendo</td>\n",
       "      <td>40.24</td>\n",
       "    </tr>\n",
       "    <tr>\n",
       "      <th>2</th>\n",
       "      <td>3</td>\n",
       "      <td>Mario Kart Wii</td>\n",
       "      <td>Wii</td>\n",
       "      <td>2008.00</td>\n",
       "      <td>Racing</td>\n",
       "      <td>Nintendo</td>\n",
       "      <td>35.82</td>\n",
       "    </tr>\n",
       "    <tr>\n",
       "      <th>3</th>\n",
       "      <td>4</td>\n",
       "      <td>Wii Sports Resort</td>\n",
       "      <td>Wii</td>\n",
       "      <td>2009.00</td>\n",
       "      <td>Sports</td>\n",
       "      <td>Nintendo</td>\n",
       "      <td>33.00</td>\n",
       "    </tr>\n",
       "    <tr>\n",
       "      <th>4</th>\n",
       "      <td>5</td>\n",
       "      <td>Pokemon Red/Pokemon Blue</td>\n",
       "      <td>GB</td>\n",
       "      <td>1996.00</td>\n",
       "      <td>Role-Playing</td>\n",
       "      <td>Nintendo</td>\n",
       "      <td>31.37</td>\n",
       "    </tr>\n",
       "    <tr>\n",
       "      <th>5</th>\n",
       "      <td>6</td>\n",
       "      <td>Tetris</td>\n",
       "      <td>GB</td>\n",
       "      <td>1989.00</td>\n",
       "      <td>Puzzle</td>\n",
       "      <td>Nintendo</td>\n",
       "      <td>30.26</td>\n",
       "    </tr>\n",
       "    <tr>\n",
       "      <th>6</th>\n",
       "      <td>7</td>\n",
       "      <td>New Super Mario Bros.</td>\n",
       "      <td>DS</td>\n",
       "      <td>2006.00</td>\n",
       "      <td>Platform</td>\n",
       "      <td>Nintendo</td>\n",
       "      <td>30.01</td>\n",
       "    </tr>\n",
       "    <tr>\n",
       "      <th>7</th>\n",
       "      <td>8</td>\n",
       "      <td>Wii Play</td>\n",
       "      <td>Wii</td>\n",
       "      <td>2006.00</td>\n",
       "      <td>Misc</td>\n",
       "      <td>Nintendo</td>\n",
       "      <td>29.02</td>\n",
       "    </tr>\n",
       "    <tr>\n",
       "      <th>8</th>\n",
       "      <td>9</td>\n",
       "      <td>New Super Mario Bros. Wii</td>\n",
       "      <td>Wii</td>\n",
       "      <td>2009.00</td>\n",
       "      <td>Platform</td>\n",
       "      <td>Nintendo</td>\n",
       "      <td>28.62</td>\n",
       "    </tr>\n",
       "    <tr>\n",
       "      <th>9</th>\n",
       "      <td>10</td>\n",
       "      <td>Duck Hunt</td>\n",
       "      <td>NES</td>\n",
       "      <td>1984.00</td>\n",
       "      <td>Shooter</td>\n",
       "      <td>Nintendo</td>\n",
       "      <td>28.31</td>\n",
       "    </tr>\n",
       "  </tbody>\n",
       "</table>\n",
       "</div>"
      ],
      "text/plain": [
       "   Rank                       Name Platform    Year         Genre Publisher  \\\n",
       "0     1                 Wii Sports      Wii 2006.00        Sports  Nintendo   \n",
       "1     2          Super Mario Bros.      NES 1985.00      Platform  Nintendo   \n",
       "2     3             Mario Kart Wii      Wii 2008.00        Racing  Nintendo   \n",
       "3     4          Wii Sports Resort      Wii 2009.00        Sports  Nintendo   \n",
       "4     5   Pokemon Red/Pokemon Blue       GB 1996.00  Role-Playing  Nintendo   \n",
       "5     6                     Tetris       GB 1989.00        Puzzle  Nintendo   \n",
       "6     7      New Super Mario Bros.       DS 2006.00      Platform  Nintendo   \n",
       "7     8                   Wii Play      Wii 2006.00          Misc  Nintendo   \n",
       "8     9  New Super Mario Bros. Wii      Wii 2009.00      Platform  Nintendo   \n",
       "9    10                  Duck Hunt      NES 1984.00       Shooter  Nintendo   \n",
       "\n",
       "   Global_Sales  \n",
       "0         82.74  \n",
       "1         40.24  \n",
       "2         35.82  \n",
       "3         33.00  \n",
       "4         31.37  \n",
       "5         30.26  \n",
       "6         30.01  \n",
       "7         29.02  \n",
       "8         28.62  \n",
       "9         28.31  "
      ]
     },
     "metadata": {},
     "output_type": "display_data"
    }
   ],
   "source": [
    "# Analyze top 10 best-selling games\n",
    "print(\"=== Top 10 Best-Selling Games ===\")\n",
    "top_10_games = get_top_performers(df, 'Global_Sales', 10)\n",
    "display_cols = ['Rank', 'Name', 'Platform', 'Year', 'Genre', 'Publisher', 'Global_Sales']\n",
    "display(top_10_games[display_cols])\n"
   ]
  },
  {
   "cell_type": "code",
   "execution_count": 9,
   "metadata": {},
   "outputs": [
    {
     "name": "stdout",
     "output_type": "stream",
     "text": [
      "=== Regional Sales Breakdown (Top 10) ===\n"
     ]
    },
    {
     "data": {
      "text/html": [
       "<div>\n",
       "<style scoped>\n",
       "    .dataframe tbody tr th:only-of-type {\n",
       "        vertical-align: middle;\n",
       "    }\n",
       "\n",
       "    .dataframe tbody tr th {\n",
       "        vertical-align: top;\n",
       "    }\n",
       "\n",
       "    .dataframe thead th {\n",
       "        text-align: right;\n",
       "    }\n",
       "</style>\n",
       "<table border=\"1\" class=\"dataframe\">\n",
       "  <thead>\n",
       "    <tr style=\"text-align: right;\">\n",
       "      <th></th>\n",
       "      <th>Name</th>\n",
       "      <th>NA_Sales</th>\n",
       "      <th>EU_Sales</th>\n",
       "      <th>JP_Sales</th>\n",
       "      <th>Other_Sales</th>\n",
       "      <th>Global_Sales</th>\n",
       "    </tr>\n",
       "  </thead>\n",
       "  <tbody>\n",
       "    <tr>\n",
       "      <th>0</th>\n",
       "      <td>Wii Sports</td>\n",
       "      <td>41.49</td>\n",
       "      <td>29.02</td>\n",
       "      <td>3.77</td>\n",
       "      <td>8.46</td>\n",
       "      <td>82.74</td>\n",
       "    </tr>\n",
       "    <tr>\n",
       "      <th>1</th>\n",
       "      <td>Super Mario Bros.</td>\n",
       "      <td>29.08</td>\n",
       "      <td>3.58</td>\n",
       "      <td>6.81</td>\n",
       "      <td>0.77</td>\n",
       "      <td>40.24</td>\n",
       "    </tr>\n",
       "    <tr>\n",
       "      <th>2</th>\n",
       "      <td>Mario Kart Wii</td>\n",
       "      <td>15.85</td>\n",
       "      <td>12.88</td>\n",
       "      <td>3.79</td>\n",
       "      <td>3.31</td>\n",
       "      <td>35.82</td>\n",
       "    </tr>\n",
       "    <tr>\n",
       "      <th>3</th>\n",
       "      <td>Wii Sports Resort</td>\n",
       "      <td>15.75</td>\n",
       "      <td>11.01</td>\n",
       "      <td>3.28</td>\n",
       "      <td>2.96</td>\n",
       "      <td>33.00</td>\n",
       "    </tr>\n",
       "    <tr>\n",
       "      <th>4</th>\n",
       "      <td>Pokemon Red/Pokemon Blue</td>\n",
       "      <td>11.27</td>\n",
       "      <td>8.89</td>\n",
       "      <td>10.22</td>\n",
       "      <td>1.00</td>\n",
       "      <td>31.37</td>\n",
       "    </tr>\n",
       "    <tr>\n",
       "      <th>5</th>\n",
       "      <td>Tetris</td>\n",
       "      <td>23.20</td>\n",
       "      <td>2.26</td>\n",
       "      <td>4.22</td>\n",
       "      <td>0.58</td>\n",
       "      <td>30.26</td>\n",
       "    </tr>\n",
       "    <tr>\n",
       "      <th>6</th>\n",
       "      <td>New Super Mario Bros.</td>\n",
       "      <td>11.38</td>\n",
       "      <td>9.23</td>\n",
       "      <td>6.50</td>\n",
       "      <td>2.90</td>\n",
       "      <td>30.01</td>\n",
       "    </tr>\n",
       "    <tr>\n",
       "      <th>7</th>\n",
       "      <td>Wii Play</td>\n",
       "      <td>14.03</td>\n",
       "      <td>9.20</td>\n",
       "      <td>2.93</td>\n",
       "      <td>2.85</td>\n",
       "      <td>29.02</td>\n",
       "    </tr>\n",
       "    <tr>\n",
       "      <th>8</th>\n",
       "      <td>New Super Mario Bros. Wii</td>\n",
       "      <td>14.59</td>\n",
       "      <td>7.06</td>\n",
       "      <td>4.70</td>\n",
       "      <td>2.26</td>\n",
       "      <td>28.62</td>\n",
       "    </tr>\n",
       "    <tr>\n",
       "      <th>9</th>\n",
       "      <td>Duck Hunt</td>\n",
       "      <td>26.93</td>\n",
       "      <td>0.63</td>\n",
       "      <td>0.28</td>\n",
       "      <td>0.47</td>\n",
       "      <td>28.31</td>\n",
       "    </tr>\n",
       "  </tbody>\n",
       "</table>\n",
       "</div>"
      ],
      "text/plain": [
       "                        Name  NA_Sales  EU_Sales  JP_Sales  Other_Sales  \\\n",
       "0                 Wii Sports     41.49     29.02      3.77         8.46   \n",
       "1          Super Mario Bros.     29.08      3.58      6.81         0.77   \n",
       "2             Mario Kart Wii     15.85     12.88      3.79         3.31   \n",
       "3          Wii Sports Resort     15.75     11.01      3.28         2.96   \n",
       "4   Pokemon Red/Pokemon Blue     11.27      8.89     10.22         1.00   \n",
       "5                     Tetris     23.20      2.26      4.22         0.58   \n",
       "6      New Super Mario Bros.     11.38      9.23      6.50         2.90   \n",
       "7                   Wii Play     14.03      9.20      2.93         2.85   \n",
       "8  New Super Mario Bros. Wii     14.59      7.06      4.70         2.26   \n",
       "9                  Duck Hunt     26.93      0.63      0.28         0.47   \n",
       "\n",
       "   Global_Sales  \n",
       "0         82.74  \n",
       "1         40.24  \n",
       "2         35.82  \n",
       "3         33.00  \n",
       "4         31.37  \n",
       "5         30.26  \n",
       "6         30.01  \n",
       "7         29.02  \n",
       "8         28.62  \n",
       "9         28.31  "
      ]
     },
     "metadata": {},
     "output_type": "display_data"
    }
   ],
   "source": [
    "# Regional sales breakdown for top 10 games\n",
    "print(\"=== Regional Sales Breakdown (Top 10) ===\")\n",
    "top_10_regional = calculate_regional_breakdown(df, 10)\n",
    "display(top_10_regional)\n"
   ]
  },
  {
   "cell_type": "markdown",
   "metadata": {
    "vscode": {
     "languageId": "raw"
    }
   },
   "source": [
    "## Market Overview\n"
   ]
  },
  {
   "cell_type": "code",
   "execution_count": 10,
   "metadata": {},
   "outputs": [
    {
     "name": "stdout",
     "output_type": "stream",
     "text": [
      "=== Platform Distribution (Top 15) ===\n",
      "Platform\n",
      "DS      2163\n",
      "PS2     2161\n",
      "PS3     1329\n",
      "Wii     1325\n",
      "X360    1265\n",
      "PSP     1213\n",
      "PS      1196\n",
      "PC       960\n",
      "XB       824\n",
      "GBA      822\n",
      "GC       556\n",
      "3DS      509\n",
      "PSV      413\n",
      "PS4      336\n",
      "N64      319\n",
      "Name: count, dtype: int64\n",
      "\n",
      "Total unique values: 31\n"
     ]
    }
   ],
   "source": [
    "# Analyze platform distribution\n",
    "platform_distribution = analyze_distribution(df, 'Platform', 15)\n"
   ]
  },
  {
   "cell_type": "code",
   "execution_count": 11,
   "metadata": {},
   "outputs": [
    {
     "name": "stdout",
     "output_type": "stream",
     "text": [
      "=== Genre Distribution (Top 12) ===\n",
      "Genre\n",
      "Action          3316\n",
      "Sports          2346\n",
      "Misc            1739\n",
      "Role-Playing    1488\n",
      "Shooter         1310\n",
      "Adventure       1286\n",
      "Racing          1249\n",
      "Platform         886\n",
      "Simulation       867\n",
      "Fighting         848\n",
      "Strategy         681\n",
      "Puzzle           582\n",
      "Name: count, dtype: int64\n",
      "\n",
      "Total unique values: 12\n"
     ]
    }
   ],
   "source": [
    "# Analyze genre distribution\n",
    "genre_distribution = analyze_distribution(df, 'Genre', 12)\n"
   ]
  },
  {
   "cell_type": "code",
   "execution_count": 12,
   "metadata": {},
   "outputs": [
    {
     "name": "stdout",
     "output_type": "stream",
     "text": [
      "=== Top 10 Publishers by Number of Games ===\n",
      "Publisher\n",
      "Electronic Arts                 1351\n",
      "Activision                       975\n",
      "Namco Bandai Games               932\n",
      "Ubisoft                          921\n",
      "Konami Digital Entertainment     832\n",
      "THQ                              715\n",
      "Nintendo                         703\n",
      "Sony Computer Entertainment      683\n",
      "Sega                             639\n",
      "Take-Two Interactive             413\n",
      "Name: count, dtype: int64\n",
      "\n",
      "=== Top 10 Publishers by Total Global Sales ===\n",
      "Publisher\n",
      "Nintendo                       1786.56\n",
      "Electronic Arts                1110.32\n",
      "Activision                      727.46\n",
      "Sony Computer Entertainment     607.50\n",
      "Ubisoft                         474.72\n",
      "Take-Two Interactive            399.54\n",
      "THQ                             340.77\n",
      "Konami Digital Entertainment    283.64\n",
      "Sega                            272.99\n",
      "Namco Bandai Games              254.09\n",
      "Name: Global_Sales, dtype: float64\n"
     ]
    }
   ],
   "source": [
    "# Analyze publishers using imported function\n",
    "publisher_games, publisher_sales = analyze_publishers(df)\n"
   ]
  },
  {
   "cell_type": "markdown",
   "metadata": {
    "vscode": {
     "languageId": "raw"
    }
   },
   "source": [
    "## Next Steps for Analysis\n",
    "\n",
    "### Ready for Deep Dive Analysis\n",
    "The notebook is now set up with the essential data exploration. Here are some next steps you can explore:\n",
    "\n",
    "**📊 Visualizations to Create:**\n",
    "- Time series of genre popularity over decades\n",
    "- Regional market share comparisons (heatmaps)\n",
    "- Platform lifecycle analysis\n",
    "- Publisher market concentration\n",
    "- Sales distribution patterns\n",
    "\n",
    "**🔍 Analysis Questions:**\n",
    "- Which genres perform best in different regions?\n",
    "- How have platform preferences evolved over time?\n",
    "- What factors contribute to a game's global success?\n",
    "- Are there seasonal patterns in game releases?\n",
    "- How concentrated is the gaming market among top publishers?\n",
    "\n",
    "**💡 Business Insights:**\n",
    "- Optimal release strategies by region\n",
    "- Genre-platform combinations for success\n",
    "- Market timing and competition analysis\n",
    "- Franchise vs. standalone game performance\n",
    "\n",
    "Feel free to add new cells below to continue your analysis!\n"
   ]
  },
  {
   "cell_type": "markdown",
   "metadata": {
    "vscode": {
     "languageId": "raw"
    }
   },
   "source": [
    "## Data Validation and Quality Insights\n",
    "\n",
    "### Key Findings from Initial Analysis\n",
    "\n",
    "- **Data Completeness**: 271 games missing year information, 58 missing publisher data\n",
    "- **Sales Range**: Global sales range from 0.01M to 82.74M copies\n",
    "- **Time Coverage**: Dataset spans from 1980 to 2020, with median year 2007\n",
    "- **Platform Diversity**: 31 unique gaming platforms represented\n",
    "- **Market Concentration**: Nintendo dominates both top games and total sales\n"
   ]
  },
  {
   "cell_type": "markdown",
   "metadata": {
    "vscode": {
     "languageId": "raw"
    }
   },
   "source": [
    "## Advanced Analysis Functions\n",
    "\n",
    "Additional specialized functions for deeper insights.\n"
   ]
  },
  {
   "cell_type": "code",
   "execution_count": 13,
   "metadata": {},
   "outputs": [
    {
     "name": "stdout",
     "output_type": "stream",
     "text": [
      "✅ Advanced analysis functions loaded!\n"
     ]
    }
   ],
   "source": [
    "# Advanced analysis functions are imported from data_analysis module\n",
    "print(\"✅ Advanced analysis functions loaded!\")\n"
   ]
  },
  {
   "cell_type": "code",
   "execution_count": 14,
   "metadata": {},
   "outputs": [
    {
     "name": "stdout",
     "output_type": "stream",
     "text": [
      "=== Gaming Industry Timeline ===\n",
      "📅 Dataset covers: 1980 - 2020\n",
      "📊 Median release year: 2007\n",
      "🎮 Peak gaming year: 2009 (1431 games)\n",
      "\n",
      "\n",
      "=== Global Market Share by Region ===\n",
      "🌍 North America: 49.3%\n",
      "🌍 Europe: 27.3%\n",
      "🌍 Japan: 14.5%\n",
      "🌍 Other: 8.9%\n"
     ]
    }
   ],
   "source": [
    "# Apply advanced analysis functions\n",
    "year_analysis = analyze_year_trends(df)\n",
    "print(\"\\n\")\n",
    "market_share = get_regional_market_share(df)\n"
   ]
  },
  {
   "cell_type": "markdown",
   "metadata": {
    "vscode": {
     "languageId": "raw"
    }
   },
   "source": [
    "## Summary Statistics and Insights\n"
   ]
  },
  {
   "cell_type": "code",
   "execution_count": 15,
   "metadata": {},
   "outputs": [
    {
     "name": "stdout",
     "output_type": "stream",
     "text": [
      "=== Dataset Summary Statistics ===\n",
      "🎮 Total games analyzed: 16,598\n",
      "💰 Total global sales: 8920.44M copies\n",
      "📊 Average sales per game: 0.54M copies\n",
      "🕹️  Unique platforms: 31\n",
      "🎯 Unique genres: 12\n",
      "🏢 Unique publishers: 578\n",
      "👑 Top selling game: Wii Sports\n",
      "🎯 Nintendo market presence: 4.2% of all games\n"
     ]
    }
   ],
   "source": [
    "# Generate comprehensive summary statistics using imported function\n",
    "summary_stats = generate_summary_statistics(df)\n"
   ]
  },
  {
   "cell_type": "markdown",
   "metadata": {},
   "source": [
    "## Comprehensive Analysis Results\n",
    "\n",
    "All analysis sections completed successfully! The notebook now provides:\n",
    "\n",
    "### ✅ Completed Analysis Sections:\n",
    "1. **Data Loading & Quality Check** - Robust data loading with error handling\n",
    "2. **Helper Functions** - Reusable analysis functions for maintainable code  \n",
    "3. **Top Performers Analysis** - Top games and regional breakdowns\n",
    "4. **Market Distribution** - Platform, genre, and publisher analysis\n",
    "5. **Advanced Analytics** - Temporal trends and regional market share\n",
    "6. **Summary Statistics** - Comprehensive dataset overview\n",
    "\n",
    "### 🎯 Key Insights Discovered:\n",
    "- Nintendo dominates with both top-selling games and market presence\n",
    "- North America represents the largest regional market\n",
    "- Platform diversity spans 30+ years of gaming evolution\n",
    "- Action and Sports genres lead in game volume\n",
    "- Missing data is minimal and manageable (< 2% of records)\n",
    "\n",
    "### 📈 Dataset Characteristics:\n",
    "- **16,598 games** across multiple decades\n",
    "- **Global sales data** broken down by region  \n",
    "- **Comprehensive coverage** from 1980-2020\n",
    "- **Rich metadata** including platform, genre, publisher information\n"
   ]
  },
  {
   "cell_type": "markdown",
   "metadata": {
    "vscode": {
     "languageId": "raw"
    }
   },
   "source": [
    "## Next Steps for Extended Analysis\n"
   ]
  },
  {
   "cell_type": "code",
   "execution_count": 18,
   "metadata": {},
   "outputs": [
    {
     "name": "stdout",
     "output_type": "stream",
     "text": [
      "=== Recommended Next Analysis Steps ===\n",
      "1. 📊 Create visualizations: Time series plots for genre trends over decades\n",
      "2. 🗺️  Geographic analysis: Regional preference heatmaps by genre/platform\n",
      "3. 📈 Correlation analysis: Relationship between regional sales patterns\n",
      "4. 🎯 Market segmentation: Identify distinct gaming market segments\n",
      "5. 🚀 Predictive modeling: Forecast future gaming trends\n",
      "6. 🎮 Platform lifecycle: Analyze console adoption and decline patterns\n",
      "7. 💰 Revenue optimization: Identify factors for commercial success\n",
      "8. 🏆 Franchise analysis: Multi-game series performance patterns\n"
     ]
    }
   ],
   "source": [
    "# Display suggested next analysis steps using imported function\n",
    "next_steps = suggest_next_analysis_steps()\n"
   ]
  }
 ],
 "metadata": {
  "kernelspec": {
   "display_name": "Python 3 (ipykernel)",
   "language": "python",
   "name": "python3"
  },
  "language_info": {
   "codemirror_mode": {
    "name": "ipython",
    "version": 3
   },
   "file_extension": ".py",
   "mimetype": "text/x-python",
   "name": "python",
   "nbconvert_exporter": "python",
   "pygments_lexer": "ipython3",
   "version": "3.13.5"
  }
 },
 "nbformat": 4,
 "nbformat_minor": 4
}
