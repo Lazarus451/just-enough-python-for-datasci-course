{
  "cells": [
    {
      "cell_type": "markdown",
      "metadata": {
        "vscode": {
          "languageId": "raw"
        }
      },
      "source": [
        "# Video Game Sales Research\n",
        "\n",
        "## Dataset Overview\n",
        "\n",
        "This notebook analyzes a comprehensive video game sales dataset containing **16,600 entries** ranked by global sales performance, covering games from **1984 to 2016**.\n",
        "\n",
        "### Key Highlights\n",
        "\n",
        "- **Top Game**: Wii Sports with 82.74 million global sales\n",
        "- **Market Leaders**: Nintendo dominates top rankings with iconic franchises\n",
        "- **Sales Range**: From 82.74M (top) down to 0.01M (bottom tier)\n",
        "- **Regional Coverage**: NA, EU, JP, and other markets\n",
        "- **Platform Diversity**: 30+ years of gaming platforms from NES to PS4\n",
        "- **Genre Variety**: Sports, Platform, Racing, Action, RPG, Shooter, and more\n",
        "\n",
        "### Research Questions\n",
        "\n",
        "This analysis will explore:\n",
        "- Genre popularity trends over time\n",
        "- Platform lifecycle and market share evolution\n",
        "- Regional market preferences and differences\n",
        "- Publisher market dominance and competition\n",
        "- Franchise performance patterns\n"
      ]
    },
    {
      "cell_type": "markdown",
      "metadata": {
        "vscode": {
          "languageId": "raw"
        }
      },
      "source": [
        "## Setup and Data Loading\n"
      ]
    },
    {
      "cell_type": "code",
      "execution_count": null,
      "metadata": {},
      "outputs": [],
      "source": [
        "# Import required libraries\n",
        "import pandas as pd\n",
        "import numpy as np\n",
        "import matplotlib.pyplot as plt\n",
        "import seaborn as sns\n",
        "\n",
        "# Set up plotting style\n",
        "plt.style.use('default')\n",
        "sns.set_palette('husl')\n",
        "\n",
        "# Display options\n",
        "pd.set_option('display.max_columns', None)\n",
        "pd.set_option('display.max_rows', 20)\n",
        "pd.set_option('display.float_format', '{:.2f}'.format)\n",
        "\n",
        "print(\"Libraries imported successfully!\")\n"
      ]
    },
    {
      "cell_type": "code",
      "execution_count": null,
      "metadata": {},
      "outputs": [],
      "source": [
        "# Load the video game sales dataset\n",
        "df = pd.read_csv('vgsales.csv')\n",
        "\n",
        "print(f\"Dataset loaded successfully!\")\n",
        "print(f\"Shape: {df.shape}\")\n",
        "print(f\"Columns: {list(df.columns)}\")\n",
        "df.head()\n"
      ]
    },
    {
      "cell_type": "markdown",
      "metadata": {
        "vscode": {
          "languageId": "raw"
        }
      },
      "source": [
        "## Data Quality Check\n"
      ]
    },
    {
      "cell_type": "code",
      "execution_count": null,
      "metadata": {},
      "outputs": [],
      "source": [
        "# Check for missing values and basic info\n",
        "print(\"=== Missing Values ===\")\n",
        "missing_values = df.isnull().sum()\n",
        "if missing_values.sum() > 0:\n",
        "    print(missing_values[missing_values > 0])\n",
        "else:\n",
        "    print(\"No missing values found!\")\n",
        "\n",
        "print(\"\\n=== Basic Statistics ===\")\n",
        "df.describe()\n"
      ]
    },
    {
      "cell_type": "markdown",
      "metadata": {
        "vscode": {
          "languageId": "raw"
        }
      },
      "source": [
        "## Top Performers Analysis\n"
      ]
    },
    {
      "cell_type": "code",
      "execution_count": null,
      "metadata": {},
      "outputs": [],
      "source": [
        "# Top 10 best-selling games globally\n",
        "print(\"=== Top 10 Best-Selling Games ===\")\n",
        "top_10_games = df.head(10)[['Rank', 'Name', 'Platform', 'Year', 'Genre', 'Publisher', 'Global_Sales']]\n",
        "display(top_10_games)\n",
        "\n",
        "print(\"\\n=== Regional Sales Breakdown (Top 10) ===\")\n",
        "regional_cols = ['Name', 'NA_Sales', 'EU_Sales', 'JP_Sales', 'Other_Sales', 'Global_Sales']\n",
        "top_10_regional = df.head(10)[regional_cols]\n",
        "display(top_10_regional)\n"
      ]
    },
    {
      "cell_type": "markdown",
      "metadata": {
        "vscode": {
          "languageId": "raw"
        }
      },
      "source": [
        "## Market Overview\n"
      ]
    },
    {
      "cell_type": "code",
      "execution_count": null,
      "metadata": {},
      "outputs": [],
      "source": [
        "# Platform and Genre distribution\n",
        "print(\"=== Platform Distribution (Top 15) ===\")\n",
        "platform_counts = df['Platform'].value_counts().head(15)\n",
        "print(platform_counts)\n",
        "\n",
        "print(\"\\n=== Genre Distribution ===\")\n",
        "genre_counts = df['Genre'].value_counts()\n",
        "print(genre_counts)\n",
        "\n",
        "print(\"\\n=== Top 10 Publishers by Total Global Sales ===\")\n",
        "publisher_sales = df.groupby('Publisher')['Global_Sales'].sum().sort_values(ascending=False).head(10)\n",
        "print(publisher_sales.round(2))\n"
      ]
    },
    {
      "cell_type": "markdown",
      "metadata": {
        "vscode": {
          "languageId": "raw"
        }
      },
      "source": [
        "## Next Steps for Analysis\n",
        "\n",
        "### Ready for Deep Dive Analysis\n",
        "The notebook is now set up with the essential data exploration. Here are some next steps you can explore:\n",
        "\n",
        "**📊 Visualizations to Create:**\n",
        "- Time series of genre popularity over decades\n",
        "- Regional market share comparisons (heatmaps)\n",
        "- Platform lifecycle analysis\n",
        "- Publisher market concentration\n",
        "- Sales distribution patterns\n",
        "\n",
        "**🔍 Analysis Questions:**\n",
        "- Which genres perform best in different regions?\n",
        "- How have platform preferences evolved over time?\n",
        "- What factors contribute to a game's global success?\n",
        "- Are there seasonal patterns in game releases?\n",
        "- How concentrated is the gaming market among top publishers?\n",
        "\n",
        "**💡 Business Insights:**\n",
        "- Optimal release strategies by region\n",
        "- Genre-platform combinations for success\n",
        "- Market timing and competition analysis\n",
        "- Franchise vs. standalone game performance\n",
        "\n",
        "Feel free to add new cells below to continue your analysis!\n"
      ]
    },
    {
      "cell_type": "markdown",
      "metadata": {
        "vscode": {
          "languageId": "raw"
        }
      },
      "source": [
        "# Video Game Sales Research\n",
        "\n",
        "## Dataset Overview\n",
        "\n",
        "This notebook analyzes a comprehensive video game sales dataset containing **16,600 entries** ranked by global sales performance, covering games from **1984 to 2016**.\n",
        "\n",
        "### Key Highlights\n",
        "\n",
        "- **Top Game**: Wii Sports with 82.74 million global sales\n",
        "- **Market Leaders**: Nintendo dominates top rankings with iconic franchises\n",
        "- **Sales Range**: From 82.74M (top) down to 0.01M (bottom tier)\n",
        "- **Regional Coverage**: NA, EU, JP, and other markets\n",
        "- **Platform Diversity**: 30+ years of gaming platforms from NES to PS4\n",
        "- **Genre Variety**: Sports, Platform, Racing, Action, RPG, Shooter, and more\n",
        "\n",
        "### Research Questions\n",
        "\n",
        "This analysis will explore:\n",
        "- Genre popularity trends over time\n",
        "- Platform lifecycle and market share evolution\n",
        "- Regional market preferences and differences\n",
        "- Publisher market dominance and competition\n",
        "- Franchise performance patterns\n"
      ]
    },
    {
      "cell_type": "markdown",
      "metadata": {
        "vscode": {
          "languageId": "raw"
        }
      },
      "source": [
        "## Setup and Data Loading\n"
      ]
    },
    {
      "cell_type": "code",
      "execution_count": 1,
      "metadata": {},
      "outputs": [
        {
          "ename": "ModuleNotFoundError",
          "evalue": "No module named 'matplotlib'",
          "output_type": "error",
          "traceback": [
            "\u001b[31m---------------------------------------------------------------------------\u001b[39m",
            "\u001b[31mModuleNotFoundError\u001b[39m                       Traceback (most recent call last)",
            "\u001b[36mCell\u001b[39m\u001b[36m \u001b[39m\u001b[32mIn[1]\u001b[39m\u001b[32m, line 4\u001b[39m\n\u001b[32m      2\u001b[39m \u001b[38;5;28;01mimport\u001b[39;00m\u001b[38;5;250m \u001b[39m\u001b[34;01mpandas\u001b[39;00m\u001b[38;5;250m \u001b[39m\u001b[38;5;28;01mas\u001b[39;00m\u001b[38;5;250m \u001b[39m\u001b[34;01mpd\u001b[39;00m\n\u001b[32m      3\u001b[39m \u001b[38;5;28;01mimport\u001b[39;00m\u001b[38;5;250m \u001b[39m\u001b[34;01mnumpy\u001b[39;00m\u001b[38;5;250m \u001b[39m\u001b[38;5;28;01mas\u001b[39;00m\u001b[38;5;250m \u001b[39m\u001b[34;01mnp\u001b[39;00m\n\u001b[32m----> \u001b[39m\u001b[32m4\u001b[39m \u001b[38;5;28;01mimport\u001b[39;00m\u001b[38;5;250m \u001b[39m\u001b[34;01mmatplotlib\u001b[39;00m\u001b[34;01m.\u001b[39;00m\u001b[34;01mpyplot\u001b[39;00m\u001b[38;5;250m \u001b[39m\u001b[38;5;28;01mas\u001b[39;00m\u001b[38;5;250m \u001b[39m\u001b[34;01mplt\u001b[39;00m\n\u001b[32m      5\u001b[39m \u001b[38;5;28;01mimport\u001b[39;00m\u001b[38;5;250m \u001b[39m\u001b[34;01mseaborn\u001b[39;00m\u001b[38;5;250m \u001b[39m\u001b[38;5;28;01mas\u001b[39;00m\u001b[38;5;250m \u001b[39m\u001b[34;01msns\u001b[39;00m\n\u001b[32m      6\u001b[39m \u001b[38;5;28;01mfrom\u001b[39;00m\u001b[38;5;250m \u001b[39m\u001b[34;01mpathlib\u001b[39;00m\u001b[38;5;250m \u001b[39m\u001b[38;5;28;01mimport\u001b[39;00m Path\n",
            "\u001b[31mModuleNotFoundError\u001b[39m: No module named 'matplotlib'"
          ]
        }
      ],
      "source": [
        "# Import required libraries\n",
        "import pandas as pd\n",
        "import numpy as np\n",
        "import matplotlib.pyplot as plt\n",
        "import seaborn as sns\n",
        "from pathlib import Path\n",
        "\n",
        "# Set up plotting style\n",
        "plt.style.use('default')\n",
        "sns.set_palette('husl')\n",
        "\n",
        "# Display options\n",
        "pd.set_option('display.max_columns', None)\n",
        "pd.set_option('display.max_rows', 20)\n",
        "pd.set_option('display.float_format', '{:.2f}'.format)\n",
        "\n",
        "print(\"Libraries imported successfully!\")\n"
      ]
    },
    {
      "cell_type": "code",
      "execution_count": null,
      "metadata": {},
      "outputs": [],
      "source": [
        "# Load the video game sales dataset\n",
        "df = pd.read_csv('vgsales.csv')\n",
        "\n",
        "print(f\"Dataset loaded successfully!\")\n",
        "print(f\"Shape: {df.shape}\")\n",
        "print(f\"Columns: {list(df.columns)}\")\n"
      ]
    },
    {
      "cell_type": "markdown",
      "metadata": {
        "vscode": {
          "languageId": "raw"
        }
      },
      "source": [
        "## Initial Data Exploration\n"
      ]
    },
    {
      "cell_type": "code",
      "execution_count": null,
      "metadata": {},
      "outputs": [],
      "source": [
        "# Basic information about the dataset\n",
        "print(\"=== Dataset Info ===\")\n",
        "df.info()\n",
        "\n",
        "print(\"\\n=== First few rows ===\")\n",
        "df.head()\n"
      ]
    },
    {
      "cell_type": "code",
      "execution_count": null,
      "metadata": {},
      "outputs": [],
      "source": [
        "# Check for missing values and data quality\n",
        "print(\"=== Missing Values ===\")\n",
        "missing_values = df.isnull().sum()\n",
        "print(missing_values[missing_values > 0])\n",
        "\n",
        "print(\"\\n=== Basic Statistics ===\")\n",
        "df.describe()\n"
      ]
    },
    {
      "cell_type": "markdown",
      "metadata": {
        "vscode": {
          "languageId": "raw"
        }
      },
      "source": [
        "## Top Performers Analysis\n"
      ]
    },
    {
      "cell_type": "code",
      "execution_count": null,
      "metadata": {},
      "outputs": [],
      "source": [
        "# Top 10 best-selling games globally\n",
        "print(\"=== Top 10 Best-Selling Games ===\")\n",
        "top_10_games = df.head(10)[['Rank', 'Name', 'Platform', 'Year', 'Genre', 'Publisher', 'Global_Sales']]\n",
        "print(top_10_games.to_string(index=False))\n"
      ]
    },
    {
      "cell_type": "code",
      "execution_count": null,
      "metadata": {},
      "outputs": [],
      "source": [
        "# Regional sales breakdown for top 10\n",
        "print(\"=== Regional Sales Breakdown (Top 10) ===\")\n",
        "regional_cols = ['Name', 'NA_Sales', 'EU_Sales', 'JP_Sales', 'Other_Sales', 'Global_Sales']\n",
        "top_10_regional = df.head(10)[regional_cols]\n",
        "print(top_10_regional.to_string(index=False))\n"
      ]
    },
    {
      "cell_type": "markdown",
      "metadata": {
        "vscode": {
          "languageId": "raw"
        }
      },
      "source": [
        "## Market Overview\n"
      ]
    },
    {
      "cell_type": "code",
      "execution_count": null,
      "metadata": {},
      "outputs": [],
      "source": [
        "# Platform and Genre distribution\n",
        "print(\"=== Platform Distribution (Top 15) ===\")\n",
        "platform_counts = df['Platform'].value_counts().head(15)\n",
        "print(platform_counts)\n",
        "\n",
        "print(\"\\n=== Genre Distribution ===\")\n",
        "genre_counts = df['Genre'].value_counts()\n",
        "print(genre_counts)\n"
      ]
    },
    {
      "cell_type": "code",
      "execution_count": null,
      "metadata": {},
      "outputs": [],
      "source": [
        "# Top publishers by total games and total sales\n",
        "print(\"=== Top 10 Publishers by Number of Games ===\")\n",
        "publisher_games = df['Publisher'].value_counts().head(10)\n",
        "print(publisher_games)\n",
        "\n",
        "print(\"\\n=== Top 10 Publishers by Total Global Sales ===\")\n",
        "publisher_sales = df.groupby('Publisher')['Global_Sales'].sum().sort_values(ascending=False).head(10)\n",
        "print(publisher_sales)\n"
      ]
    },
    {
      "cell_type": "markdown",
      "metadata": {
        "vscode": {
          "languageId": "raw"
        }
      },
      "source": [
        "## Next Steps for Analysis\n",
        "\n",
        "### Planned Visualizations\n",
        "1. **Time Series Analysis**: Genre popularity trends over decades\n",
        "2. **Regional Comparison**: Market share differences between NA, EU, JP\n",
        "3. **Platform Evolution**: Console lifecycle and market dominance periods\n",
        "4. **Publisher Analysis**: Market concentration and competition dynamics\n",
        "5. **Franchise Performance**: Multi-game series success patterns\n",
        "\n",
        "### Statistical Analysis\n",
        "1. **Correlation Analysis**: Relationship between regional sales\n",
        "2. **Distribution Analysis**: Sales patterns and market segmentation\n",
        "3. **Trend Analysis**: Growth patterns by genre and platform\n",
        "4. **Market Share Evolution**: How dominance has shifted over time\n",
        "\n",
        "### Business Insights\n",
        "1. **Success Factors**: What makes games globally successful?\n",
        "2. **Regional Preferences**: Cultural differences in gaming tastes\n",
        "3. **Platform Strategy**: Optimal platforms for different genres\n",
        "4. **Market Timing**: Release year impact on sales performance\n"
      ]
    }
  ],
  "metadata": {
    "kernelspec": {
      "display_name": "venv",
      "language": "python",
      "name": "python3"
    },
    "language_info": {
      "codemirror_mode": {
        "name": "ipython",
        "version": 3
      },
      "file_extension": ".py",
      "mimetype": "text/x-python",
      "name": "python",
      "nbconvert_exporter": "python",
      "pygments_lexer": "ipython3",
      "version": "3.13.5"
    }
  },
  "nbformat": 4,
  "nbformat_minor": 2
}
