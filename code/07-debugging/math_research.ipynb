{
 "cells": [
  {
   "cell_type": "markdown",
   "id": "a7f21c6dae76f057",
   "metadata": {},
   "source": [
    "# Organizing Code\n",
    "\n",
    "The idea of this notebook is to leverage the complex but not exactly relevant code found in `mathf`, our math utility library."
   ]
  },
  {
   "cell_type": "code",
   "id": "6040bded7e982e0c",
   "metadata": {
    "ExecuteTime": {
     "end_time": "2025-07-31T21:15:16.305984Z",
     "start_time": "2025-07-31T21:15:16.303891Z"
    }
   },
   "source": [
    "# Import our math functions.\n",
    "import mathf"
   ],
   "outputs": [],
   "execution_count": 6
  },
  {
   "cell_type": "markdown",
   "id": "9209940ceb5e46c0",
   "metadata": {},
   "source": [
    "## Primes and Fibonacci?\n",
    "\n",
    "Let's see if there is a relationship between primes and fibonacci numbers."
   ]
  },
  {
   "cell_type": "code",
   "id": "c8beeefbe98fd1b8",
   "metadata": {
    "ExecuteTime": {
     "end_time": "2025-07-31T21:15:16.323495Z",
     "start_time": "2025-07-31T21:15:16.321182Z"
    }
   },
   "source": [
    "prime = 17\n",
    "all_fibs = mathf.fibonacci()\n",
    "based_fibs = mathf.multiples_of(all_fibs, prime)\n",
    "\n",
    "first_10 = []\n",
    "for idx, fib in enumerate(based_fibs):\n",
    "    first_10.append(fib)\n",
    "    if idx > 10:\n",
    "        break"
   ],
   "outputs": [],
   "execution_count": 7
  },
  {
   "cell_type": "markdown",
   "id": "ca9ad6fe20a217d7",
   "metadata": {},
   "source": [
    "What are the first 10 which are multiples of 17?"
   ]
  },
  {
   "cell_type": "code",
   "id": "980daf7b8a4f2a61",
   "metadata": {
    "ExecuteTime": {
     "end_time": "2025-07-31T21:15:16.362186Z",
     "start_time": "2025-07-31T21:15:16.359568Z"
    }
   },
   "source": [
    "numbers_text = [f'{tn:,}' for tn in first_10]\n",
    "for n in numbers_text:\n",
    "    print(n)"
   ],
   "outputs": [
    {
     "name": "stdout",
     "output_type": "stream",
     "text": [
      "34\n",
      "2,584\n",
      "196,418\n",
      "14,930,352\n",
      "1,134,903,170\n",
      "86,267,571,272\n",
      "6,557,470,319,842\n",
      "498,454,011,879,264\n",
      "37,889,062,373,143,906\n",
      "2,880,067,194,370,816,120\n",
      "218,922,995,834,555,169,026\n",
      "16,641,027,750,620,563,662,096\n"
     ]
    }
   ],
   "execution_count": 8
  },
  {
   "cell_type": "code",
   "id": "b2c870122e665de2",
   "metadata": {
    "ExecuteTime": {
     "end_time": "2025-07-31T21:15:16.392602Z",
     "start_time": "2025-07-31T21:15:16.390406Z"
    }
   },
   "source": [],
   "outputs": [],
   "execution_count": null
  }
 ],
 "metadata": {
  "kernelspec": {
   "display_name": "Python 3 (ipykernel)",
   "language": "python",
   "name": "python3"
  },
  "language_info": {
   "codemirror_mode": {
    "name": "ipython",
    "version": 3
   },
   "file_extension": ".py",
   "mimetype": "text/x-python",
   "name": "python",
   "nbconvert_exporter": "python",
   "pygments_lexer": "ipython3",
   "version": "3.13.5"
  }
 },
 "nbformat": 4,
 "nbformat_minor": 5
}
