{
 "cells": [
  {
   "cell_type": "markdown",
   "id": "70e6d603-f320-47ae-abf7-20133cf8e77e",
   "metadata": {},
   "source": [
    "# Organizing Code {reproducibility}\n",
    "\n",
    "The idea of this notebook is to leverage the complex but not exactly relevant code found in `mathf`, our math utility library."
   ]
  },
  {
   "cell_type": "code",
   "id": "f7f8b7ff-2950-4c93-b874-2f99d53bb669",
   "metadata": {
    "ExecuteTime": {
     "end_time": "2025-08-05T19:44:50.883669Z",
     "start_time": "2025-08-05T19:44:50.879623Z"
    }
   },
   "source": [
    "# Import our math utility functions.\n",
    "import mathf\n",
    "from pathlib import Path"
   ],
   "outputs": [],
   "execution_count": 1
  },
  {
   "cell_type": "markdown",
   "id": "3e85013b31cbcaa4",
   "metadata": {},
   "source": [
    "## Primes and Fibonacci?\n",
    "\n",
    "Let's see if there is a relationship between primes and fibonacci numbers."
   ]
  },
  {
   "cell_type": "code",
   "id": "56d7dfe777839c3c",
   "metadata": {
    "editable": true,
    "slideshow": {
     "slide_type": ""
    },
    "tags": [],
    "ExecuteTime": {
     "end_time": "2025-08-05T19:44:50.898544Z",
     "start_time": "2025-08-05T19:44:50.896444Z"
    }
   },
   "source": [
    "prime = 17\n",
    "all_fibs = mathf.fibonacci_gen()\n",
    "based_fibs = mathf.multiples_of(all_fibs, prime)\n",
    "\n",
    "first_10 = []\n",
    "for idx, base_fib in enumerate(based_fibs):\n",
    "    first_10.append(base_fib)\n",
    "    if idx > 10:\n",
    "        break"
   ],
   "outputs": [],
   "execution_count": 2
  },
  {
   "cell_type": "markdown",
   "id": "42defd2675759e1c",
   "metadata": {},
   "source": [
    "What are the first 10 which are multiples of 17?"
   ]
  },
  {
   "cell_type": "code",
   "id": "a8bba67daa19472",
   "metadata": {
    "ExecuteTime": {
     "end_time": "2025-08-05T19:44:50.907749Z",
     "start_time": "2025-08-05T19:44:50.905978Z"
    }
   },
   "source": [
    "text_numbers = [f'{n:,}' for n in first_10]\n",
    "for tn in text_numbers:\n",
    "    print(tn)"
   ],
   "outputs": [
    {
     "name": "stdout",
     "output_type": "stream",
     "text": [
      "0\n",
      "34\n",
      "2,584\n",
      "196,418\n",
      "14,930,352\n",
      "1,134,903,170\n",
      "86,267,571,272\n",
      "6,557,470,319,842\n",
      "498,454,011,879,264\n",
      "37,889,062,373,143,906\n",
      "2,880,067,194,370,816,120\n",
      "218,922,995,834,555,169,026\n"
     ]
    }
   ],
   "execution_count": 3
  },
  {
   "cell_type": "code",
   "id": "5deaf5a6",
   "metadata": {
    "ExecuteTime": {
     "end_time": "2025-08-05T19:44:50.918122Z",
     "start_time": "2025-08-05T19:44:50.914518Z"
    }
   },
   "source": [
    "# Let's just show that we can read/write data persistently.\n",
    "file = Path('/data/run-count.txt')\n",
    "if not file.parent.exists():\n",
    "    file = Path('../data/run-count.txt')\n",
    "    file.parent.mkdir(parents=True, exist_ok=True)\n",
    "\n",
    "if file.exists():\n",
    "    with open(file, 'r', encoding='utf-8') as f:\n",
    "        run_count = int(f.read())\n",
    "else:\n",
    "    run_count = 0\n",
    "\n",
    "run_count += 1\n",
    "\n",
    "with open(file, 'w', encoding='utf-8') as f:\n",
    "    f.write(str(run_count))\n",
    "\n",
    "print(f'This is run {run_count}')"
   ],
   "outputs": [
    {
     "name": "stdout",
     "output_type": "stream",
     "text": [
      "This is run 7\n"
     ]
    }
   ],
   "execution_count": 4
  },
  {
   "metadata": {
    "ExecuteTime": {
     "end_time": "2025-08-05T19:44:50.932804Z",
     "start_time": "2025-08-05T19:44:50.931632Z"
    }
   },
   "cell_type": "code",
   "source": "",
   "id": "2e12bad509461386",
   "outputs": [],
   "execution_count": null
  }
 ],
 "metadata": {
  "kernelspec": {
   "display_name": "venv",
   "language": "python",
   "name": "python3"
  },
  "language_info": {
   "codemirror_mode": {
    "name": "ipython",
    "version": 3
   },
   "file_extension": ".py",
   "mimetype": "text/x-python",
   "name": "python",
   "nbconvert_exporter": "python",
   "pygments_lexer": "ipython3",
   "version": "3.13.5"
  }
 },
 "nbformat": 4,
 "nbformat_minor": 5
}
