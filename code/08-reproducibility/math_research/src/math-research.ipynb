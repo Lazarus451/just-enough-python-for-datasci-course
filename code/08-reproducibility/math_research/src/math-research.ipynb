{
 "cells": [
  {
   "cell_type": "markdown",
   "id": "70e6d603-f320-47ae-abf7-20133cf8e77e",
   "metadata": {},
   "source": [
    "# Organizing Code {reproducability}\n",
    "\n",
    "The idea of this notebook is to leverage the complex but not exactly relevant code found in `mathf`, our math utility library."
   ]
  },
  {
   "cell_type": "code",
   "id": "f7f8b7ff-2950-4c93-b874-2f99d53bb669",
   "metadata": {
    "ExecuteTime": {
     "end_time": "2025-08-02T01:13:40.632240Z",
     "start_time": "2025-08-02T01:13:40.628063Z"
    }
   },
   "source": [
    "# Import our math utility functions.\n",
    "import mathf\n",
    "from pathlib import Path"
   ],
   "outputs": [],
   "execution_count": 2
  },
  {
   "cell_type": "markdown",
   "id": "3e85013b31cbcaa4",
   "metadata": {},
   "source": [
    "## Primes and Fibonacci?\n",
    "\n",
    "Let's see if there is a relationship between primes and fibonacci numbers."
   ]
  },
  {
   "cell_type": "code",
   "execution_count": 3,
   "id": "56d7dfe777839c3c",
   "metadata": {
    "ExecuteTime": {
     "end_time": "2025-07-23T16:35:43.018357Z",
     "start_time": "2025-07-23T16:35:43.015886Z"
    },
    "editable": true,
    "slideshow": {
     "slide_type": ""
    },
    "tags": []
   },
   "outputs": [],
   "source": [
    "prime = 17\n",
    "all_fibs = mathf.fibonacci_gen()\n",
    "based_fibs = mathf.multiples_of(all_fibs, prime)\n",
    "\n",
    "first_10 = []\n",
    "for idx, base_fib in enumerate(based_fibs):\n",
    "    first_10.append(base_fib)\n",
    "    if idx > 10:\n",
    "        break"
   ]
  },
  {
   "cell_type": "markdown",
   "id": "42defd2675759e1c",
   "metadata": {},
   "source": [
    "What are the first 10 which are multiples of 17?"
   ]
  },
  {
   "cell_type": "code",
   "execution_count": 4,
   "id": "a8bba67daa19472",
   "metadata": {
    "ExecuteTime": {
     "end_time": "2025-07-23T16:35:27.655427Z",
     "start_time": "2025-07-23T16:33:07.867291Z"
    }
   },
   "outputs": [
    {
     "name": "stdout",
     "output_type": "stream",
     "text": [
      "0\n",
      "34\n",
      "2,584\n",
      "196,418\n",
      "14,930,352\n",
      "1,134,903,170\n",
      "86,267,571,272\n",
      "6,557,470,319,842\n",
      "498,454,011,879,264\n",
      "37,889,062,373,143,906\n",
      "2,880,067,194,370,816,120\n",
      "218,922,995,834,555,169,026\n"
     ]
    }
   ],
   "source": [
    "text_numbers = [f'{n:,}' for n in first_10]\n",
    "for tn in text_numbers:\n",
    "    print(tn)"
   ]
  },
  {
   "cell_type": "code",
   "id": "5deaf5a6",
   "metadata": {
    "ExecuteTime": {
     "end_time": "2025-08-02T01:14:53.816909Z",
     "start_time": "2025-08-02T01:14:53.792645Z"
    }
   },
   "source": [
    "# Let's just show that we can read/write data persistently.\n",
    "file = Path('/data/run-count.txt')\n",
    "if not file.parent.exists():\n",
    "    file = Path('../data/run-count.txt')\n",
    "    file.parent.mkdir(parents=True, exist_ok=True)\n",
    "\n",
    "if file.exists():\n",
    "    with open(file, 'r', encoding='utf-8') as f:\n",
    "        run_count = int(f.read())\n",
    "else:\n",
    "    run_count = 0\n",
    "\n",
    "run_count += 1\n",
    "\n",
    "with open(file, 'w', encoding='utf-8') as f:\n",
    "    f.write(str(run_count))\n",
    "\n",
    "print(f'This is run {run_count}')"
   ],
   "outputs": [
    {
     "ename": "IsADirectoryError",
     "evalue": "[Errno 21] Is a directory: '../data/run-count.txt'",
     "output_type": "error",
     "traceback": [
      "\u001B[31m---------------------------------------------------------------------------\u001B[39m",
      "\u001B[31mIsADirectoryError\u001B[39m                         Traceback (most recent call last)",
      "\u001B[36mCell\u001B[39m\u001B[36m \u001B[39m\u001B[32mIn[6]\u001B[39m\u001B[32m, line 8\u001B[39m\n\u001B[32m      5\u001B[39m     file.parent.mkdir(parents=\u001B[38;5;28;01mTrue\u001B[39;00m, exist_ok=\u001B[38;5;28;01mTrue\u001B[39;00m)\n\u001B[32m      7\u001B[39m \u001B[38;5;28;01mif\u001B[39;00m file.exists():\n\u001B[32m----> \u001B[39m\u001B[32m8\u001B[39m     \u001B[38;5;28;01mwith\u001B[39;00m \u001B[38;5;28;43mopen\u001B[39;49m\u001B[43m(\u001B[49m\u001B[43mfile\u001B[49m\u001B[43m,\u001B[49m\u001B[43m \u001B[49m\u001B[33;43m'\u001B[39;49m\u001B[33;43mr\u001B[39;49m\u001B[33;43m'\u001B[39;49m\u001B[43m,\u001B[49m\u001B[43m \u001B[49m\u001B[43mencoding\u001B[49m\u001B[43m=\u001B[49m\u001B[33;43m'\u001B[39;49m\u001B[33;43mutf-8\u001B[39;49m\u001B[33;43m'\u001B[39;49m\u001B[43m)\u001B[49m \u001B[38;5;28;01mas\u001B[39;00m f:\n\u001B[32m      9\u001B[39m         run_count = \u001B[38;5;28mint\u001B[39m(f.read())\n\u001B[32m     10\u001B[39m \u001B[38;5;28;01melse\u001B[39;00m:\n",
      "\u001B[36mFile \u001B[39m\u001B[32m~/github/courses/just-enough-python-datasci/just-enough-data-sci-course/venv/lib/python3.13/site-packages/IPython/core/interactiveshell.py:343\u001B[39m, in \u001B[36m_modified_open\u001B[39m\u001B[34m(file, *args, **kwargs)\u001B[39m\n\u001B[32m    336\u001B[39m \u001B[38;5;28;01mif\u001B[39;00m file \u001B[38;5;129;01min\u001B[39;00m {\u001B[32m0\u001B[39m, \u001B[32m1\u001B[39m, \u001B[32m2\u001B[39m}:\n\u001B[32m    337\u001B[39m     \u001B[38;5;28;01mraise\u001B[39;00m \u001B[38;5;167;01mValueError\u001B[39;00m(\n\u001B[32m    338\u001B[39m         \u001B[33mf\u001B[39m\u001B[33m\"\u001B[39m\u001B[33mIPython won\u001B[39m\u001B[33m'\u001B[39m\u001B[33mt let you open fd=\u001B[39m\u001B[38;5;132;01m{\u001B[39;00mfile\u001B[38;5;132;01m}\u001B[39;00m\u001B[33m by default \u001B[39m\u001B[33m\"\u001B[39m\n\u001B[32m    339\u001B[39m         \u001B[33m\"\u001B[39m\u001B[33mas it is likely to crash IPython. If you know what you are doing, \u001B[39m\u001B[33m\"\u001B[39m\n\u001B[32m    340\u001B[39m         \u001B[33m\"\u001B[39m\u001B[33myou can use builtins\u001B[39m\u001B[33m'\u001B[39m\u001B[33m open.\u001B[39m\u001B[33m\"\u001B[39m\n\u001B[32m    341\u001B[39m     )\n\u001B[32m--> \u001B[39m\u001B[32m343\u001B[39m \u001B[38;5;28;01mreturn\u001B[39;00m \u001B[43mio_open\u001B[49m\u001B[43m(\u001B[49m\u001B[43mfile\u001B[49m\u001B[43m,\u001B[49m\u001B[43m \u001B[49m\u001B[43m*\u001B[49m\u001B[43margs\u001B[49m\u001B[43m,\u001B[49m\u001B[43m \u001B[49m\u001B[43m*\u001B[49m\u001B[43m*\u001B[49m\u001B[43mkwargs\u001B[49m\u001B[43m)\u001B[49m\n",
      "\u001B[31mIsADirectoryError\u001B[39m: [Errno 21] Is a directory: '../data/run-count.txt'"
     ]
    }
   ],
   "execution_count": 6
  },
  {
   "metadata": {},
   "cell_type": "code",
   "outputs": [],
   "execution_count": null,
   "source": "",
   "id": "2e12bad509461386"
  }
 ],
 "metadata": {
  "kernelspec": {
   "display_name": "venv",
   "language": "python",
   "name": "python3"
  },
  "language_info": {
   "codemirror_mode": {
    "name": "ipython",
    "version": 3
   },
   "file_extension": ".py",
   "mimetype": "text/x-python",
   "name": "python",
   "nbconvert_exporter": "python",
   "pygments_lexer": "ipython3",
   "version": "3.13.5"
  }
 },
 "nbformat": 4,
 "nbformat_minor": 5
}
